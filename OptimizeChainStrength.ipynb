{
 "cells": [
  {
   "cell_type": "code",
   "execution_count": 1,
   "id": "f0d96f7d",
   "metadata": {
    "ExecuteTime": {
     "end_time": "2023-11-29T04:12:23.324072Z",
     "start_time": "2023-11-29T04:12:22.377949Z"
    }
   },
   "outputs": [],
   "source": [
    "import dwave\n",
    "from dwave.samplers import SimulatedAnnealingSampler\n",
    "from dwave.system.composites import FixedEmbeddingComposite\n",
    "\n",
    "import networkx as nx\n",
    "import minorminer\n",
    "import numpy as np"
   ]
  },
  {
   "cell_type": "code",
   "execution_count": 2,
   "id": "ca45d504",
   "metadata": {
    "ExecuteTime": {
     "end_time": "2023-11-29T04:12:23.337082Z",
     "start_time": "2023-11-29T04:12:23.325477Z"
    }
   },
   "outputs": [],
   "source": [
    "def annealing(H,num_shot,sampler=None,embedding=None,anneal_time=None,chain_strength=10):\n",
    "    if type(sampler) == None or type(embedding) == None:\n",
    "        sampler_  = SimulatedAnnealingSampler()\n",
    "        sampleset = sampler_.sample(H,num_reads=num_shot,answer_mode='raw')\n",
    "    else:\n",
    "        sampler_     = FixedEmbeddingComposite(sampler,embedding)\n",
    "        sampleset    = sampler_.sample(H,num_reads=num_shot,chain_strength=chain_strength,\\\n",
    "                                    answer_mode='raw',annealing_time=anneal_time)\n",
    "    return sampleset\n",
    "\n",
    "def check_chain_break(confi,embedding):\n",
    "    for chains in embedding.values():\n",
    "        lst = []\n",
    "        for chain in chains:\n",
    "            lst.append(confi[chain])\n",
    "        if np.abs(np.mean(lst)) != 1:\n",
    "            return True\n",
    "    return False\n",
    "\n",
    "def defaultJc(H,prefactor=1.414):\n",
    "    num_interactions = H.num_interactions\n",
    "    quadratic_array = np.fromiter(H.quadratic.values(), dtype=float, count=num_interactions)    \n",
    "    squared_j = quadratic_array**2\n",
    "    rms = np.sqrt(squared_j.sum() / num_interactions)\n",
    "    avg_degree = H.degrees(array=True).mean()\n",
    "    Jc = prefactor * rms * np.sqrt(avg_degree)   \n",
    "    return Jc\n",
    "\n",
    "def det_chain_strength(H,sampler,embedding,cnst=1.6,num_shot=100,anneal_time=1000,prefactor=1.414,num=10):\n",
    "    # embd BQM을 위한 embedding\n",
    "    embedding_ = {}\n",
    "    for qubit, chains in embedding.items():\n",
    "        for chain in chains:\n",
    "            embedding_[chain] = (chain,)      \n",
    "    # default chain strength\n",
    "    init_Jc = defaultJc(H,prefactor)\n",
    "    Jc_lst  = np.linspace(init_Jc/10,init_Jc,num=num)\n",
    "    \n",
    "    for j in np.arange(Jc_lst.shape[0]):\n",
    "        Jc        = Jc_lst[j]\n",
    "        H_        = dwave.embedding.embed_bqm(H,embedding,pegasus_graph,chain_strength=Jc) \n",
    "        sampleset = annealing(H_,num_shot,sampler,embedding,anneal_time)\n",
    "        confi     = sampleset.first.sample\n",
    "        if check_chain_break(confi,embedding) == False:\n",
    "            Jc_ = Jc_lst[j-1]\n",
    "            break    \n",
    "    return cnst * Jc_          "
   ]
  }
 ],
 "metadata": {
  "kernelspec": {
   "display_name": "Python 3 (ipykernel)",
   "language": "python",
   "name": "python3"
  },
  "language_info": {
   "codemirror_mode": {
    "name": "ipython",
    "version": 3
   },
   "file_extension": ".py",
   "mimetype": "text/x-python",
   "name": "python",
   "nbconvert_exporter": "python",
   "pygments_lexer": "ipython3",
   "version": "3.11.0"
  }
 },
 "nbformat": 4,
 "nbformat_minor": 5
}
