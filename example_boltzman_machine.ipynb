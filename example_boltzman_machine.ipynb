{
 "cells": [
  {
   "cell_type": "code",
   "execution_count": 1,
   "id": "f0d96f7d",
   "metadata": {
    "ExecuteTime": {
     "end_time": "2023-12-14T10:51:59.244201Z",
     "start_time": "2023-12-14T10:51:58.341272Z"
    }
   },
   "outputs": [],
   "source": [
    "import dimod\n",
    "import dwave\n",
    "from dwave.samplers import SimulatedAnnealingSampler\n",
    "from dwave.system.samplers import DWaveSampler\n",
    "from dwave.system.composites import FixedEmbeddingComposite\n",
    "from dwave.embedding.pegasus import find_clique_embedding\n",
    "\n",
    "import dwave_networkx as dnx\n",
    "import networkx as nx\n",
    "import minorminer\n",
    "\n",
    "import numpy as np\n",
    "from matplotlib import pyplot as plt\n",
    "from tqdm import notebook\n",
    "\n",
    "import pickle\n",
    "\n",
    "from OptimizeChainStrength import det_chain_strength"
   ]
  },
  {
   "cell_type": "code",
   "execution_count": 5,
   "id": "ca45d504",
   "metadata": {
    "ExecuteTime": {
     "end_time": "2023-12-14T10:55:24.354755Z",
     "start_time": "2023-12-14T10:55:24.336909Z"
    }
   },
   "outputs": [],
   "source": [
    "def annealing(H,num_shot,sampler=None,embedding=None,anneal_time=None,chain_strength=10):\n",
    "    if type(sampler) == None or type(embedding) == None:\n",
    "        sampler_  = SimulatedAnnealingSampler()\n",
    "        sampleset = sampler_.sample(H,num_reads=num_shot,answer_mode='raw')\n",
    "    else:\n",
    "        sampler_     = FixedEmbeddingComposite(sampler,embedding)\n",
    "        sampleset    = sampler_.sample(H,num_reads=num_shot,chain_strength=chain_strength,\\\n",
    "                                    answer_mode='raw',annealing_time=anneal_time)\n",
    "    return sampleset\n",
    "# fully connected hamiltonian\n",
    "def FCH(A):\n",
    "    L = A.shape[0]\n",
    "    linear = {}\n",
    "    quadratic = {}\n",
    "    for i in np.arange(L):\n",
    "        for j in np.arange(L):\n",
    "            if A[i][j] != 0:\n",
    "                quadratic[(i,j)] = A[i][j]\n",
    "    H = dimod.BinaryQuadraticModel(linear,quadratic,0,vartype='SPIN')\n",
    "    return H                  \n",
    "\n",
    "def get_confi(confi,embedding):\n",
    "    qubit_lst = list(embedding.keys())\n",
    "    confi_ = {}\n",
    "    for qubit in qubit_lst:\n",
    "        chains = embedding[qubit]\n",
    "        chain_confi = np.array([confi[chain] for chain in chains])\n",
    "        spin = np.random.choice(chain_confi)\n",
    "        confi_[qubit] = spin\n",
    "    return confi_\n",
    "\n",
    "def check_chain_break(confi,embedding):\n",
    "    for chains in embedding.values():\n",
    "        lst = []\n",
    "        for chain in chains:\n",
    "            lst.append(confi[chain])\n",
    "        if np.abs(np.mean(lst)) != 1:\n",
    "            return True\n",
    "    return False\n",
    "\n",
    "def find_embedding(source,target,initial=None):\n",
    "    if type(initial) != type(None):\n",
    "        embedding = minorminer.find_embedding(source.edges(),target.edges(),initial_chains=initial)\n",
    "    else:\n",
    "        embedding = minorminer.find_embedding(source.edges(),target.edges())\n",
    "    return embedding\n",
    "\n",
    "def ret_num_chain(embedding):\n",
    "    cnt = 0\n",
    "    for val in embedding.values():\n",
    "        cnt += len(val) - 1\n",
    "    return cnt\n",
    "\n",
    "def defaultJc(H,prefactor=1.414):\n",
    "    num_interactions = H.num_interactions\n",
    "    quadratic_array = np.fromiter(H.quadratic.values(), dtype=float, count=num_interactions)    \n",
    "    squared_j = quadratic_array**2\n",
    "    rms = np.sqrt(squared_j.sum() / num_interactions)\n",
    "    avg_degree = H.degrees(array=True).mean()\n",
    "    Jc = prefactor * rms * np.sqrt(avg_degree)   \n",
    "    return Jc"
   ]
  },
  {
   "cell_type": "code",
   "execution_count": 3,
   "id": "f446c584",
   "metadata": {
    "ExecuteTime": {
     "end_time": "2023-12-14T10:54:06.986100Z",
     "start_time": "2023-12-14T10:54:05.269059Z"
    }
   },
   "outputs": [
    {
     "name": "stdout",
     "output_type": "stream",
     "text": [
      "Connected to sampler Advantage_system6.3\n"
     ]
    }
   ],
   "source": [
    "sampler            = DWaveSampler(solver='Advantage_system6.3',\\\n",
    "                                  token='yXwP-14c5f07f8c1e275a1e6d06fe2b5bd641bce661fa')\n",
    "print(\"Connected to sampler\", sampler.solver.name)\n",
    "pegasus_properties = sampler.properties\n",
    "pegasus_graph      = sampler.to_networkx_graph()"
   ]
  },
  {
   "cell_type": "code",
   "execution_count": 7,
   "id": "d88dbcbd",
   "metadata": {
    "ExecuteTime": {
     "end_time": "2023-12-14T10:55:59.283987Z",
     "start_time": "2023-12-14T10:55:59.270109Z"
    }
   },
   "outputs": [],
   "source": [
    "L    = 20\n",
    "seed = 0\n",
    "A    = np.random.normal(size=(L,L))\n",
    "A    = (A + A.T) / 2\n",
    "H    = FCH(A)\n",
    "G    = dimod.to_networkx_graph(H)"
   ]
  },
  {
   "cell_type": "code",
   "execution_count": 9,
   "id": "cee781ab",
   "metadata": {
    "ExecuteTime": {
     "end_time": "2023-12-14T10:56:32.466597Z",
     "start_time": "2023-12-14T10:56:22.337084Z"
    }
   },
   "outputs": [],
   "source": [
    "embedding  = find_clique_embedding(L,target_graph=pegasus_graph)\n",
    "embedding_ = {}\n",
    "for qubit, chains in embedding.items():\n",
    "    for chain in chains:\n",
    "        embedding_[chain] = (chain,)"
   ]
  },
  {
   "cell_type": "code",
   "execution_count": 10,
   "id": "5667590b",
   "metadata": {
    "ExecuteTime": {
     "end_time": "2023-12-14T10:56:34.761989Z",
     "start_time": "2023-12-14T10:56:34.748380Z"
    },
    "collapsed": true
   },
   "outputs": [
    {
     "data": {
      "text/plain": [
       "{0: (180, 181, 2940),\n",
       " 1: (195, 196, 2955),\n",
       " 2: (150, 151, 2970),\n",
       " 3: (165, 166, 2985),\n",
       " 4: (210, 211, 3000),\n",
       " 5: (225, 226, 3015),\n",
       " 6: (240, 241, 3240),\n",
       " 7: (255, 256, 3255),\n",
       " 8: (270, 271, 3030),\n",
       " 9: (285, 286, 3045),\n",
       " 10: (300, 301, 3210),\n",
       " 11: (315, 316, 3225),\n",
       " 12: (90, 3150, 3151),\n",
       " 13: (105, 3165, 3166),\n",
       " 14: (330, 3060, 3061),\n",
       " 15: (345, 3075, 3076),\n",
       " 16: (361, 3090, 3091),\n",
       " 17: (376, 3105, 3106),\n",
       " 18: (60, 3120, 3121),\n",
       " 19: (75, 3135, 3136)}"
      ]
     },
     "execution_count": 10,
     "metadata": {},
     "output_type": "execute_result"
    }
   ],
   "source": [
    "embedding"
   ]
  },
  {
   "cell_type": "code",
   "execution_count": 55,
   "id": "f86e696a",
   "metadata": {
    "ExecuteTime": {
     "end_time": "2023-12-14T11:21:06.174862Z",
     "start_time": "2023-12-14T11:21:06.110181Z"
    }
   },
   "outputs": [],
   "source": [
    "L_lst          = np.array([20,30,40,50])\n",
    "A_lst          = []\n",
    "H_lst          = []\n",
    "embedding_lst  = []\n",
    "embedding_lst_ = []\n",
    "for L in L_lst:\n",
    "    A    = np.random.normal(size=(L,L))\n",
    "    A    = (A + A.T) / 2\n",
    "    H    = FCH(A)    \n",
    "    embedding  = find_clique_embedding(L,target_graph=pegasus_graph)\n",
    "    embedding_ = {}\n",
    "    for qubit, chains in embedding.items():\n",
    "        for chain in chains:\n",
    "            embedding_[chain] = (chain,)    \n",
    "    A_lst.append(A)\n",
    "    H_lst.append(H)\n",
    "    embedding_lst.append(embedding)\n",
    "    embedding_lst_.append(embedding_)"
   ]
  },
  {
   "cell_type": "code",
   "execution_count": 56,
   "id": "91d89fba",
   "metadata": {
    "ExecuteTime": {
     "end_time": "2023-12-14T11:21:55.030543Z",
     "start_time": "2023-12-14T11:21:54.874832Z"
    }
   },
   "outputs": [
    {
     "data": {
      "application/vnd.jupyter.widget-view+json": {
       "model_id": "98a9a4183e05461b9d8f2cc3e66becff",
       "version_major": 2,
       "version_minor": 0
      },
      "text/plain": [
       "  0%|          | 0/4 [00:00<?, ?it/s]"
      ]
     },
     "metadata": {},
     "output_type": "display_data"
    }
   ],
   "source": [
    "num_shot      = 1000\n",
    "anneal_time   = 700\n",
    "Lnum          = L_lst.shape[0]\n",
    "sampleset_lst = []\n",
    "for i in notebook.tqdm(np.arange(Lnum)):\n",
    "    H             = H_lst[i]\n",
    "    embedding     = embedding_lst[i]\n",
    "    embedding_    = embedding_lst_[i]\n",
    "    Jc            = defaultJc(H)\n",
    "    H_            = dwave.embedding.embed_bqm(H,embedding,pegasus_graph,chain_strength=Jc) \n",
    "    sampleset     = annealing(H_,num_shot,sampler,embedding_,anneal_time)    \n",
    "    sampleset_lst.append(sampleset) "
   ]
  },
  {
   "cell_type": "code",
   "execution_count": 57,
   "id": "0db7bcef",
   "metadata": {
    "ExecuteTime": {
     "end_time": "2023-12-14T11:22:07.436405Z",
     "start_time": "2023-12-14T11:22:07.428206Z"
    }
   },
   "outputs": [],
   "source": [
    "sampleset_lst_default = sampleset_lst"
   ]
  },
  {
   "cell_type": "code",
   "execution_count": 58,
   "id": "a75e7eab",
   "metadata": {
    "ExecuteTime": {
     "end_time": "2023-12-14T11:23:30.785188Z",
     "start_time": "2023-12-14T11:23:03.365030Z"
    }
   },
   "outputs": [
    {
     "data": {
      "application/vnd.jupyter.widget-view+json": {
       "model_id": "2362ce35d66b4bdf8becd41af782b12b",
       "version_major": 2,
       "version_minor": 0
      },
      "text/plain": [
       "  0%|          | 0/4 [00:00<?, ?it/s]"
      ]
     },
     "metadata": {},
     "output_type": "display_data"
    }
   ],
   "source": [
    "num_shot      = 100\n",
    "anneal_time   = 1000\n",
    "Lnum          = L_lst.shape[0]\n",
    "Sampleset_lst = []\n",
    "num           = 10\n",
    "Jc_lst        = []\n",
    "for i in notebook.tqdm(np.arange(Lnum)):\n",
    "    sampleset_lst = []\n",
    "    H             = H_lst[i]\n",
    "    embedding     = embedding_lst[i]\n",
    "    embedding_    = embedding_lst_[i]\n",
    "    init_Jc       = defaultJc(H)\n",
    "    init_Jc_lst   = np.linspace(init_Jc/10,init_Jc,num=num)\n",
    "    for j in np.arange(num):\n",
    "        Jc        = init_Jc_lst[j]\n",
    "        H_        = dwave.embedding.embed_bqm(H,embedding,pegasus_graph,chain_strength=Jc) \n",
    "        sampleset = annealing(H_,num_shot,sampler,embedding_,anneal_time)\n",
    "        sampleset_lst.append(sampleset)\n",
    "        confi     = sampleset.first.sample\n",
    "        if check_chain_break(confi,embedding) == False:\n",
    "            if j == 0:\n",
    "                Jc_ = init_Jc_lst[0]\n",
    "            else:\n",
    "                Jc_ = init_Jc_lst[j-1]\n",
    "            Jc_lst.append(Jc_)\n",
    "            break     \n",
    "    Sampleset_lst.append(sampleset_lst)"
   ]
  },
  {
   "cell_type": "code",
   "execution_count": 59,
   "id": "9f29e47a",
   "metadata": {
    "ExecuteTime": {
     "end_time": "2023-12-14T11:23:59.138444Z",
     "start_time": "2023-12-14T11:23:59.133169Z"
    }
   },
   "outputs": [],
   "source": [
    "Sampleset_lst_test = Sampleset_lst"
   ]
  },
  {
   "cell_type": "code",
   "execution_count": 60,
   "id": "3178cc66",
   "metadata": {
    "ExecuteTime": {
     "end_time": "2023-12-14T11:24:03.799731Z",
     "start_time": "2023-12-14T11:24:03.791814Z"
    }
   },
   "outputs": [
    {
     "data": {
      "text/plain": [
       "[4.4027030011547215, 4.431472457375955, 7.550769467021383, 8.36026635820082]"
      ]
     },
     "execution_count": 60,
     "metadata": {},
     "output_type": "execute_result"
    }
   ],
   "source": [
    "Jc_lst"
   ]
  },
  {
   "cell_type": "code",
   "execution_count": 61,
   "id": "3fa3b1a9",
   "metadata": {
    "ExecuteTime": {
     "end_time": "2023-12-14T11:24:28.390210Z",
     "start_time": "2023-12-14T11:24:28.365657Z"
    }
   },
   "outputs": [
    {
     "name": "stdout",
     "output_type": "stream",
     "text": [
      "8.805406002309443\n",
      "11.078681143439889\n",
      "12.584615778368972\n",
      "13.933777263668032\n"
     ]
    }
   ],
   "source": [
    "for H in H_lst:\n",
    "    print(defaultJc(H))"
   ]
  },
  {
   "cell_type": "code",
   "execution_count": 72,
   "id": "fc403cae",
   "metadata": {
    "ExecuteTime": {
     "end_time": "2023-12-14T11:27:26.821415Z",
     "start_time": "2023-12-14T11:27:26.680126Z"
    }
   },
   "outputs": [
    {
     "data": {
      "application/vnd.jupyter.widget-view+json": {
       "model_id": "c409e2f710a0431f9f16321b73471575",
       "version_major": 2,
       "version_minor": 0
      },
      "text/plain": [
       "  0%|          | 0/4 [00:00<?, ?it/s]"
      ]
     },
     "metadata": {},
     "output_type": "display_data"
    }
   ],
   "source": [
    "num_shot      = 1000\n",
    "anneal_time   = 700\n",
    "cnst          = 1.8\n",
    "sampleset_lst = []\n",
    "for i in notebook.tqdm(np.arange(Lnum)):\n",
    "    H = H_lst[i]\n",
    "    embedding = embedding_lst[i]\n",
    "    embedding_ = embedding_lst_[i]\n",
    "    Jc        = cnst * Jc_lst[i]\n",
    "    H_        = dwave.embedding.embed_bqm(H,embedding,pegasus_graph,chain_strength=Jc) \n",
    "    sampleset = annealing(H_,num_shot,sampler,embedding_,anneal_time)\n",
    "    sampleset_lst.append(sampleset)    "
   ]
  },
  {
   "cell_type": "code",
   "execution_count": 73,
   "id": "c2e53da2",
   "metadata": {
    "ExecuteTime": {
     "end_time": "2023-12-14T11:27:32.135093Z",
     "start_time": "2023-12-14T11:27:32.128929Z"
    }
   },
   "outputs": [],
   "source": [
    "sampleset_lst1_8 = sampleset_lst"
   ]
  },
  {
   "cell_type": "code",
   "execution_count": 74,
   "id": "b3c1ac8e",
   "metadata": {
    "ExecuteTime": {
     "end_time": "2023-12-14T11:27:37.692306Z",
     "start_time": "2023-12-14T11:27:36.192593Z"
    }
   },
   "outputs": [
    {
     "data": {
      "application/vnd.jupyter.widget-view+json": {
       "model_id": "f31943655aad4f8abd6a508a5c963809",
       "version_major": 2,
       "version_minor": 0
      },
      "text/plain": [
       "  0%|          | 0/4 [00:00<?, ?it/s]"
      ]
     },
     "metadata": {},
     "output_type": "display_data"
    }
   ],
   "source": [
    "ener_lst      = []\n",
    "sampleset_lst = sampleset_lst1_8\n",
    "for i in notebook.tqdm(np.arange(Lnum)):\n",
    "    H = H_lst[i]\n",
    "    embedding = embedding_lst[i]\n",
    "    sampleset = sampleset_lst[i]\n",
    "    confi     = sampleset.first.sample\n",
    "    E         = 0\n",
    "    if check_chain_break(confi,embedding) == False:\n",
    "        cnt = 0\n",
    "        for sample in sampleset.samples():\n",
    "            if check_chain_break(sample,embedding) == False:\n",
    "                sample_ = get_confi(sample,embedding)\n",
    "                E      += H.energy(sample_)\n",
    "                cnt    += 1\n",
    "    E /= cnt\n",
    "    ener_lst.append(E)\n",
    "ener_lst = np.array(ener_lst)"
   ]
  },
  {
   "cell_type": "code",
   "execution_count": 75,
   "id": "a90c465d",
   "metadata": {
    "ExecuteTime": {
     "end_time": "2023-12-14T11:27:39.872687Z",
     "start_time": "2023-12-14T11:27:39.860281Z"
    }
   },
   "outputs": [],
   "source": [
    "# default, 1.4, 1.6, 1.8\n",
    "ener_lst1_8 = ener_lst"
   ]
  },
  {
   "cell_type": "code",
   "execution_count": 82,
   "id": "cd23aa3c",
   "metadata": {
    "ExecuteTime": {
     "end_time": "2023-12-14T11:43:17.388181Z",
     "start_time": "2023-12-14T11:43:17.308119Z"
    }
   },
   "outputs": [
    {
     "data": {
      "image/png": "[encoded data removed]",
      "text/plain": [
       "<Figure size 600x400 with 1 Axes>"
      ]
     },
     "metadata": {},
     "output_type": "display_data"
    }
   ],
   "source": [
    "ssize                          = 8\n",
    "markersize                     = 10\n",
    "plt.rcParams[\"font.size\"]      = 14\n",
    "plt.rcParams[\"figure.figsize\"] = (6,4)\n",
    "plt.plot(L_lst,ener_lst1_4,color='r',marker='o',markersize=ssize)\n",
    "# plt.plot(L_lst,ener_lst1_6,color='b',marker='^',markersize=ssize)\n",
    "# plt.plot(L_lst,ener_lst1_8,color='m',marker='d',markersize=ssize)\n",
    "plt.plot(L_lst,ener_lst_default,color='g',marker='s',markersize=ssize)\n",
    "plt.ylabel('$<\\\\text{E}>$',fontsize=18)\n",
    "plt.show()"
   ]
  },
  {
   "cell_type": "code",
   "execution_count": null,
   "id": "72bab217",
   "metadata": {},
   "outputs": [],
   "source": []
  },
  {
   "cell_type": "code",
   "execution_count": null,
   "id": "33f707c7",
   "metadata": {},
   "outputs": [],
   "source": []
  },
  {
   "cell_type": "code",
   "execution_count": null,
   "id": "e20dc030",
   "metadata": {},
   "outputs": [],
   "source": []
  }
 ],
 "metadata": {
  "kernelspec": {
   "display_name": "Python 3 (ipykernel)",
   "language": "python",
   "name": "python3"
  },
  "language_info": {
   "codemirror_mode": {
    "name": "ipython",
    "version": 3
   },
   "file_extension": ".py",
   "mimetype": "text/x-python",
   "name": "python",
   "nbconvert_exporter": "python",
   "pygments_lexer": "ipython3",
   "version": "3.11.0"
  }
 },
 "nbformat": 4,
 "nbformat_minor": 5
}
