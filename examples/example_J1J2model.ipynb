{
 "cells": [
  {
   "cell_type": "code",
   "execution_count": 16,
   "id": "f0d96f7d",
   "metadata": {
    "ExecuteTime": {
     "end_time": "2023-12-14T09:54:12.736266Z",
     "start_time": "2023-12-14T09:54:12.729141Z"
    }
   },
   "outputs": [],
   "source": [
    "import dimod\n",
    "import dwave\n",
    "from dwave.samplers import SimulatedAnnealingSampler\n",
    "from dwave.system.samplers import DWaveSampler\n",
    "from dwave.system.composites import FixedEmbeddingComposite\n",
    "from dwave.embedding.pegasus import find_clique_embedding\n",
    "\n",
    "import dwave_networkx as dnx\n",
    "import networkx as nx\n",
    "import minorminer\n",
    "\n",
    "import numpy as np\n",
    "from matplotlib import pyplot as plt\n",
    "from tqdm import notebook\n",
    "\n",
    "import pickle\n",
    "\n",
    "from OptimizeChainStrength import det_chain_strength"
   ]
  },
  {
   "cell_type": "code",
   "execution_count": 21,
   "id": "ca45d504",
   "metadata": {
    "ExecuteTime": {
     "end_time": "2023-12-14T10:03:59.667532Z",
     "start_time": "2023-12-14T10:03:59.645761Z"
    }
   },
   "outputs": [],
   "source": [
    "def annealing(H,num_shot,sampler=None,embedding=None,anneal_time=None,chain_strength=10):\n",
    "    if type(sampler) == None or type(embedding) == None:\n",
    "        sampler_  = SimulatedAnnealingSampler()\n",
    "        sampleset = sampler_.sample(H,num_reads=num_shot,answer_mode='raw')\n",
    "    else:\n",
    "        sampler_     = FixedEmbeddingComposite(sampler,embedding)\n",
    "        sampleset    = sampler_.sample(H,num_reads=num_shot,chain_strength=chain_strength,\\\n",
    "                                    answer_mode='raw',annealing_time=anneal_time)\n",
    "    return sampleset\n",
    "\n",
    "def hamiltonianJ1J2(L,J1=1.0,J2=1.0,PBC=True):\n",
    "    L2        = L**2\n",
    "    linear    = {}\n",
    "    quadratic = {}\n",
    "    for i in np.arange(1,L**2,L):\n",
    "        if PBC == True:\n",
    "    #        J1 수평\n",
    "            quadratic[(i,i+L-1)] = -J1\n",
    "        for j in np.arange(L-1):\n",
    "    #       J1 수평\n",
    "            quadratic[(i+j,i+j+1)] = -J1\n",
    "            if i < L*(L-1):\n",
    "    #          J2 오른쪽 밑\n",
    "                quadratic[(i+j,i+j+L+1)] = J2\n",
    "    #    J2\n",
    "        if PBC == True:\n",
    "            if i < L * (L-1):\n",
    "                quadratic[(i+L-1,i+L)]       = J2\n",
    "                i_ = i // L + 1 \n",
    "                quadratic[(i_+L*(L-1),i_+1)] = J2\n",
    "    for i in np.arange(1,L+1):\n",
    "        if PBC == True:\n",
    "    #        J1 수직\n",
    "            quadratic[(i,i+L*(L-1))] = -J1\n",
    "        for j in np.arange(L-1):\n",
    "    #        J1 수직\n",
    "            quadratic[(i+j*L,i+(j+1)*L)] = -J1\n",
    "            if i < L:\n",
    "    #            J2 왼쪽 밑\n",
    "                quadratic[(i+j*L+1,i+(j+1)*L)] = J2\n",
    "        if PBC == True:\n",
    "            if i < L:\n",
    "    #             J2\n",
    "                quadratic[(L*(i-1)+1,L*(i+1))] = J2\n",
    "                quadratic[(L*(L-1)+i+1,i)]     = J2\n",
    "    # J2\n",
    "    if PBC == True:\n",
    "        quadratic[(1,L**2)]      = J2\n",
    "        quadratic[(L*(L-1)+1,L)] = J2\n",
    "    H = dimod.BinaryQuadraticModel(linear,quadratic,0,vartype='SPIN')\n",
    "    return H  \n",
    "\n",
    "def get_confi(confi,embedding):\n",
    "    qubit_lst = list(embedding.keys())\n",
    "    confi_ = {}\n",
    "    for qubit in qubit_lst:\n",
    "        chains = embedding[qubit]\n",
    "        chain_confi = np.array([confi[chain] for chain in chains])\n",
    "        spin = np.random.choice(chain_confi)\n",
    "        confi_[qubit] = spin\n",
    "    return confi_\n",
    "\n",
    "def check_chain_break(confi,embedding):\n",
    "    for chains in embedding.values():\n",
    "        lst = []\n",
    "        for chain in chains:\n",
    "            lst.append(confi[chain])\n",
    "        if np.abs(np.mean(lst)) != 1:\n",
    "            return True\n",
    "    return False\n",
    "\n",
    "def find_embedding(source,target,initial=None):\n",
    "    if type(initial) != type(None):\n",
    "        embedding = minorminer.find_embedding(source.edges(),target.edges(),initial_chains=initial)\n",
    "    else:\n",
    "        embedding = minorminer.find_embedding(source.edges(),target.edges())\n",
    "    return embedding\n",
    "\n",
    "def ret_num_chain(embedding):\n",
    "    cnt = 0\n",
    "    for val in embedding.values():\n",
    "        cnt += len(val) - 1\n",
    "    return cnt\n",
    "\n",
    "def defaultJc(H,prefactor=1.414):\n",
    "    num_interactions = H.num_interactions\n",
    "    quadratic_array = np.fromiter(H.quadratic.values(), dtype=float, count=num_interactions)    \n",
    "    squared_j = quadratic_array**2\n",
    "    rms = np.sqrt(squared_j.sum() / num_interactions)\n",
    "    avg_degree = H.degrees(array=True).mean()\n",
    "    Jc = prefactor * rms * np.sqrt(avg_degree)   \n",
    "    return Jc"
   ]
  },
  {
   "cell_type": "code",
   "execution_count": 12,
   "id": "f446c584",
   "metadata": {
    "ExecuteTime": {
     "end_time": "2023-12-14T09:48:46.679526Z",
     "start_time": "2023-12-14T09:48:45.363212Z"
    }
   },
   "outputs": [
    {
     "name": "stdout",
     "output_type": "stream",
     "text": [
      "Connected to sampler Advantage_system6.3\n"
     ]
    }
   ],
   "source": [
    "sampler            = DWaveSampler(solver='Advantage_system6.3',\\\n",
    "                                  token='----')\n",
    "print(\"Connected to sampler\", sampler.solver.name)\n",
    "pegasus_properties = sampler.properties\n",
    "pegasus_graph      = sampler.to_networkx_graph()"
   ]
  },
  {
   "cell_type": "code",
   "execution_count": 13,
   "id": "d88dbcbd",
   "metadata": {
    "ExecuteTime": {
     "end_time": "2023-12-14T09:48:49.853068Z",
     "start_time": "2023-12-14T09:48:49.836031Z"
    }
   },
   "outputs": [],
   "source": [
    "L        = 8\n",
    "J1       = 10\n",
    "J2       = 4\n",
    "num_shot = 1000\n",
    "H        = hamiltonianJ1J2(L,J1,J2)\n",
    "G        = dimod.to_networkx_graph(H)"
   ]
  },
  {
   "cell_type": "code",
   "execution_count": 15,
   "id": "b747124f",
   "metadata": {
    "ExecuteTime": {
     "end_time": "2023-12-14T09:53:48.607104Z",
     "start_time": "2023-12-14T09:49:14.197148Z"
    }
   },
   "outputs": [
    {
     "data": {
      "application/vnd.jupyter.widget-view+json": {
       "model_id": "ceeacd3ba9764a0f9213545f9f89f9eb",
       "version_major": 2,
       "version_minor": 0
      },
      "text/plain": [
       "  0%|          | 0/500 [00:00<?, ?it/s]"
      ]
     },
     "metadata": {},
     "output_type": "display_data"
    }
   ],
   "source": [
    "embd_num      = 500\n",
    "embd_lst      = []\n",
    "chain_num_lst = []\n",
    "\n",
    "for _ in notebook.tqdm(np.arange(embd_num)):\n",
    "    embd      = find_embedding(G,pegasus_graph)\n",
    "    chain_num = ret_num_chain(embd)\n",
    "    embd_lst.append(embd)\n",
    "    chain_num_lst.append(chain_num)"
   ]
  },
  {
   "cell_type": "code",
   "execution_count": 19,
   "id": "cee781ab",
   "metadata": {
    "ExecuteTime": {
     "end_time": "2023-12-14T09:55:00.109355Z",
     "start_time": "2023-12-14T09:55:00.103567Z"
    }
   },
   "outputs": [],
   "source": [
    "idx        = np.argmin(chain_num_lst)\n",
    "embedding  = embd_lst[idx]\n",
    "embedding_ = {}\n",
    "for qubit, chains in embedding.items():\n",
    "    for chain in chains:\n",
    "        embedding_[chain] = (chain,)"
   ]
  },
  {
   "cell_type": "code",
   "execution_count": 18,
   "id": "5667590b",
   "metadata": {
    "ExecuteTime": {
     "end_time": "2023-12-14T09:54:32.126347Z",
     "start_time": "2023-12-14T09:54:32.102194Z"
    },
    "collapsed": true
   },
   "outputs": [
    {
     "data": {
      "text/plain": [
       "{1: [1981, 3205, 1982],\n",
       " 8: [2011, 3176],\n",
       " 2: [3280],\n",
       " 10: [1997],\n",
       " 16: [2147, 2146, 3311, 3206],\n",
       " 9: [2012, 3445],\n",
       " 57: [3175, 1951],\n",
       " 58: [1966],\n",
       " 64: [3115, 1890],\n",
       " 7: [3161, 2055],\n",
       " 15: [3281, 2116, 2207],\n",
       " 63: [3146, 3145, 2040],\n",
       " 3: [3295],\n",
       " 11: [3370, 2027],\n",
       " 59: [3250, 1891],\n",
       " 18: [3430, 1967],\n",
       " 19: [3385, 2117],\n",
       " 17: [3400, 3401, 2087],\n",
       " 4: [2056],\n",
       " 12: [2041, 3356],\n",
       " 60: [3265, 1906],\n",
       " 20: [2102],\n",
       " 5: [2086, 3220, 3266],\n",
       " 13: [3341],\n",
       " 61: [3234, 3235],\n",
       " 21: [2132, 3431],\n",
       " 6: [2070, 2071],\n",
       " 14: [3326, 2131, 2162],\n",
       " 62: [3131, 2026, 3130],\n",
       " 22: [2177, 2178],\n",
       " 23: [2072, 3446],\n",
       " 24: [3415, 2057, 3416],\n",
       " 50: [3309, 1921, 3310],\n",
       " 56: [3114, 1875],\n",
       " 49: [3160, 3159],\n",
       " 26: [3490, 1983, 1952],\n",
       " 27: [3476, 3475],\n",
       " 25: [3564, 3565, 1968],\n",
       " 28: [3461, 3460],\n",
       " 29: [3505, 3506, 1998],\n",
       " 30: [3520, 1907, 3521, 2133],\n",
       " 31: [1833, 3535, 3536],\n",
       " 32: [3549, 3550],\n",
       " 51: [3324, 3325],\n",
       " 34: [1848, 3474],\n",
       " 35: [3414, 1892, 1772],\n",
       " 33: [3489, 1803],\n",
       " 36: [1937, 3355],\n",
       " 37: [1922, 3399],\n",
       " 38: [1877, 3429],\n",
       " 39: [3444, 1862],\n",
       " 40: [3459, 1818],\n",
       " 52: [3369, 1861],\n",
       " 42: [1787, 1786, 3249],\n",
       " 43: [1847, 3294],\n",
       " 41: [1726, 1725, 1727],\n",
       " 44: [1832],\n",
       " 45: [3384, 1876],\n",
       " 46: [1802, 1801],\n",
       " 47: [1817, 1816, 3279],\n",
       " 48: [1711, 1712, 1710],\n",
       " 53: [3219, 1831],\n",
       " 54: [1846, 3264],\n",
       " 55: [3100, 3099]}"
      ]
     },
     "execution_count": 18,
     "metadata": {},
     "output_type": "execute_result"
    }
   ],
   "source": [
    "embedding"
   ]
  },
  {
   "cell_type": "code",
   "execution_count": 84,
   "id": "9898da0e",
   "metadata": {
    "ExecuteTime": {
     "end_time": "2023-12-14T11:02:47.889637Z",
     "start_time": "2023-12-14T11:02:47.395923Z"
    }
   },
   "outputs": [
    {
     "data": {
      "application/vnd.jupyter.widget-view+json": {
       "model_id": "1b90edcace064646822cf50009b50883",
       "version_major": 2,
       "version_minor": 0
      },
      "text/plain": [
       "  0%|          | 0/6 [00:00<?, ?it/s]"
      ]
     },
     "metadata": {},
     "output_type": "display_data"
    }
   ],
   "source": [
    "num_shot      = 1000\n",
    "anneal_time   = 700\n",
    "sampleset_lst = []\n",
    "J2_lst        = np.array([3.8,4.0,4.2,4.4,4.6,4.8])\n",
    "J2num         = J2_lst.shape[0]\n",
    "for i in notebook.tqdm(np.arange(J2num)):\n",
    "    J2            = J2_lst[i]\n",
    "    H             = hamiltonianJ1J2(L,J1,J2) \n",
    "    Jc            = defaultJc(H)\n",
    "    H_            = dwave.embedding.embed_bqm(H,embedding,pegasus_graph,chain_strength=Jc) \n",
    "    sampleset     = annealing(H_,num_shot,sampler,embedding_,anneal_time)    \n",
    "    sampleset_lst.append(sampleset)"
   ]
  },
  {
   "cell_type": "code",
   "execution_count": 85,
   "id": "e0193326",
   "metadata": {
    "ExecuteTime": {
     "end_time": "2023-12-14T11:02:48.698903Z",
     "start_time": "2023-12-14T11:02:48.692016Z"
    }
   },
   "outputs": [],
   "source": [
    "sampleset_lst_default = sampleset_lst"
   ]
  },
  {
   "cell_type": "code",
   "execution_count": 26,
   "id": "b16a0f68",
   "metadata": {
    "ExecuteTime": {
     "end_time": "2023-12-14T10:27:08.047296Z",
     "start_time": "2023-12-14T10:26:45.286308Z"
    }
   },
   "outputs": [
    {
     "data": {
      "application/vnd.jupyter.widget-view+json": {
       "model_id": "debb27ee15e74333853f99c896f323d6",
       "version_major": 2,
       "version_minor": 0
      },
      "text/plain": [
       "  0%|          | 0/6 [00:00<?, ?it/s]"
      ]
     },
     "metadata": {},
     "output_type": "display_data"
    }
   ],
   "source": [
    "num_shot      = 100\n",
    "anneal_time   = 1000\n",
    "Sampleset_lst = []\n",
    "J2_lst        = np.array([3.8,4.0,4.2,4.4,4.6,4.8])\n",
    "J2num         = J2_lst.shape[0]\n",
    "Jc_lst        = []\n",
    "num           = 10\n",
    "for i in notebook.tqdm(np.arange(J2num)):\n",
    "    sampleset_lst = []\n",
    "    J2            = J2_lst[i]\n",
    "    H             = hamiltonianJ1J2(L,J1,J2) \n",
    "    init_Jc       = defaultJc(H)\n",
    "    init_Jc_lst   = np.linspace(init_Jc/10,init_Jc,num=num)\n",
    "    for j in np.arange(num):\n",
    "        Jc        = init_Jc_lst[j]\n",
    "        H_        = dwave.embedding.embed_bqm(H,embedding,pegasus_graph,chain_strength=Jc) \n",
    "        sampleset = annealing(H_,num_shot,sampler,embedding_,anneal_time)\n",
    "        sampleset_lst.append(sampleset)\n",
    "        confi     = sampleset.first.sample\n",
    "        if check_chain_break(confi,embedding) == False:\n",
    "            if j == 0:\n",
    "                Jc_ = init_Jc_lst[0]\n",
    "            else:\n",
    "                Jc_ = init_Jc_lst[j-1]\n",
    "            Jc_lst.append(Jc_)\n",
    "            break     \n",
    "    Sampleset_lst.append(sampleset_lst)"
   ]
  },
  {
   "cell_type": "code",
   "execution_count": 28,
   "id": "401e6010",
   "metadata": {
    "ExecuteTime": {
     "end_time": "2023-12-14T10:28:02.171770Z",
     "start_time": "2023-12-14T10:28:02.165788Z"
    }
   },
   "outputs": [],
   "source": [
    "Sampleset_lst_test = Sampleset_lst"
   ]
  },
  {
   "cell_type": "code",
   "execution_count": 27,
   "id": "bdf8922d",
   "metadata": {
    "ExecuteTime": {
     "end_time": "2023-12-14T10:27:13.873792Z",
     "start_time": "2023-12-14T10:27:13.865337Z"
    }
   },
   "outputs": [
    {
     "data": {
      "text/plain": [
       "[6.050598360360734,\n",
       " 6.091698429830552,\n",
       " 9.201913950825663,\n",
       " 9.268939872585214,\n",
       " 9.338568143436122,\n",
       " 12.5476546676102]"
      ]
     },
     "execution_count": 27,
     "metadata": {},
     "output_type": "execute_result"
    }
   ],
   "source": [
    "Jc_lst"
   ]
  },
  {
   "cell_type": "code",
   "execution_count": 77,
   "id": "fcd691b8",
   "metadata": {
    "ExecuteTime": {
     "end_time": "2023-12-14T10:45:32.894087Z",
     "start_time": "2023-12-14T10:45:32.426460Z"
    }
   },
   "outputs": [
    {
     "data": {
      "application/vnd.jupyter.widget-view+json": {
       "model_id": "25fa378fc5ba42a6a640c3449f204642",
       "version_major": 2,
       "version_minor": 0
      },
      "text/plain": [
       "  0%|          | 0/6 [00:00<?, ?it/s]"
      ]
     },
     "metadata": {},
     "output_type": "display_data"
    }
   ],
   "source": [
    "num_shot      = 1000\n",
    "anneal_time   = 700\n",
    "cnst          = 1.8\n",
    "sampleset_lst = []\n",
    "for i in notebook.tqdm(np.arange(J2num)):\n",
    "    J2 = J2_lst[i]\n",
    "    H  = hamiltonianJ1J2(L,J1,J2) \n",
    "    Jc = cnst * Jc_lst[i]\n",
    "    H_ = dwave.embedding.embed_bqm(H,embedding,pegasus_graph,chain_strength=Jc) \n",
    "    sampleset = annealing(H_,num_shot,sampler,embedding_,anneal_time)\n",
    "    sampleset_lst.append(sampleset)    "
   ]
  },
  {
   "cell_type": "code",
   "execution_count": 78,
   "id": "08139711",
   "metadata": {
    "ExecuteTime": {
     "end_time": "2023-12-14T10:45:36.824891Z",
     "start_time": "2023-12-14T10:45:36.810534Z"
    }
   },
   "outputs": [],
   "source": [
    "# default, 1, 1_4, 1_6, 1_8\n",
    "sampleset_lst1_8 = sampleset_lst"
   ]
  },
  {
   "cell_type": "code",
   "execution_count": 86,
   "id": "b3c1ac8e",
   "metadata": {
    "ExecuteTime": {
     "end_time": "2023-12-14T11:03:02.660457Z",
     "start_time": "2023-12-14T11:02:58.838880Z"
    }
   },
   "outputs": [
    {
     "data": {
      "application/vnd.jupyter.widget-view+json": {
       "model_id": "e9426a86cdfe42dfa6c227d6d2f5bb9b",
       "version_major": 2,
       "version_minor": 0
      },
      "text/plain": [
       "  0%|          | 0/6 [00:00<?, ?it/s]"
      ]
     },
     "metadata": {},
     "output_type": "display_data"
    }
   ],
   "source": [
    "ener_lst      = []\n",
    "sampleset_lst = sampleset_lst_default\n",
    "for i in notebook.tqdm(np.arange(J2num)):\n",
    "    J2        = J2_lst[i]\n",
    "    H         = hamiltonianJ1J2(L,J1,J2) \n",
    "    sampleset = sampleset_lst[i]\n",
    "    confi     = sampleset.first.sample\n",
    "    E         = 0\n",
    "    if check_chain_break(confi,embedding) == False:\n",
    "        cnt = 0\n",
    "        for sample in sampleset.samples():\n",
    "            if check_chain_break(sample,embedding) == False:\n",
    "                sample_ = get_confi(sample,embedding)\n",
    "                E      += H.energy(sample_)\n",
    "                cnt    += 1\n",
    "    E /= cnt\n",
    "    ener_lst.append(E)\n",
    "ener_lst = np.array(ener_lst)"
   ]
  },
  {
   "cell_type": "code",
   "execution_count": 87,
   "id": "338a83b4",
   "metadata": {
    "ExecuteTime": {
     "end_time": "2023-12-14T11:03:07.085802Z",
     "start_time": "2023-12-14T11:03:07.073872Z"
    }
   },
   "outputs": [],
   "source": [
    "ener_lst_default = ener_lst"
   ]
  },
  {
   "cell_type": "code",
   "execution_count": 90,
   "id": "a27c0d86",
   "metadata": {
    "ExecuteTime": {
     "end_time": "2023-12-14T11:42:49.754355Z",
     "start_time": "2023-12-14T11:42:49.669020Z"
    }
   },
   "outputs": [
    {
     "data": {
      "image/png": "[encoded data removed]",
      "text/plain": [
       "<Figure size 600x400 with 1 Axes>"
      ]
     },
     "metadata": {},
     "output_type": "display_data"
    }
   ],
   "source": [
    "ssize                          = 8\n",
    "markersize                     = 10\n",
    "plt.rcParams[\"font.size\"]      = 14\n",
    "plt.rcParams[\"figure.figsize\"] = (6,4)\n",
    "plt.plot(J2_lst/J1,ener_lst1_4/(J1*L**2),color='r',marker='o',markersize=ssize)\n",
    "# plt.plot(J2_lst/J1,ener_lst1_6/(J1*L**2),color='b',marker='^',markersize=ssize)\n",
    "# plt.plot(J2_lst/J1,ener_lst1_8/(J1*L**2),color='m',marker='d',markersize=ssize)\n",
    "plt.plot(J2_lst/J1,ener_lst_default/(J1*L**2),color='g',marker='s',markersize=ssize)\n",
    "plt.xlabel('$J_2/J_1$',fontsize=18)\n",
    "plt.ylabel('$<\\\\text{E}>$',fontsize=18)\n",
    "plt.show()"
   ]
  },
  {
   "cell_type": "code",
   "execution_count": null,
   "id": "65dc5d44",
   "metadata": {},
   "outputs": [],
   "source": []
  },
  {
   "cell_type": "code",
   "execution_count": null,
   "id": "5012d7dc",
   "metadata": {},
   "outputs": [],
   "source": []
  },
  {
   "cell_type": "code",
   "execution_count": null,
   "id": "7d4246d7",
   "metadata": {},
   "outputs": [],
   "source": []
  }
 ],
 "metadata": {
  "kernelspec": {
   "display_name": "Python 3 (ipykernel)",
   "language": "python",
   "name": "python3"
  },
  "language_info": {
   "codemirror_mode": {
    "name": "ipython",
    "version": 3
   },
   "file_extension": ".py",
   "mimetype": "text/x-python",
   "name": "python",
   "nbconvert_exporter": "python",
   "pygments_lexer": "ipython3",
   "version": "3.11.0"
  }
 },
 "nbformat": 4,
 "nbformat_minor": 5
}
